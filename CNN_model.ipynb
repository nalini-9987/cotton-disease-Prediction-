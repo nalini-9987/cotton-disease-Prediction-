{
  "cells": [
    {
      "cell_type": "markdown",
      "metadata": {
        "id": "9jnsfkYSE4GP"
      },
      "source": [
        "## Import Library "
      ]
    },
    {
      "cell_type": "code",
      "execution_count": null,
      "metadata": {
        "id": "QJLFU-YiE4Gk"
      },
      "outputs": [],
      "source": [
        "import os\n",
        "import keras\n",
        "from keras.preprocessing.image import ImageDataGenerator\n",
        "from keras.optimizers import Adam\n",
        "from keras.callbacks import ModelCheckpoint\n",
        "import matplotlib.pyplot as plt"
      ]
    },
    {
      "cell_type": "code",
      "execution_count": null,
      "metadata": {
        "id": "N882S_TdE4Gv"
      },
      "outputs": [],
      "source": [
        "train_data_path = \"/content/drive/MyDrive/plant data/data/train\"\n",
        "validation_data_path = \"/content/drive/MyDrive/plant data/data/val\""
      ]
    },
    {
      "cell_type": "markdown",
      "metadata": {
        "id": "7C2Gx_rzE4G0"
      },
      "source": [
        "Load a dataset from the google drive.In data set there are three floder one is train set and another is test set.In all three floder there four sub floder is there. 1.diseased cotton leaf 2.diseased cotton plant 3.fresh cotton leaf 4.fresh cotton plant"
      ]
    },
    {
      "cell_type": "code",
      "execution_count": null,
      "metadata": {
        "colab": {
          "base_uri": "https://localhost:8080/"
        },
        "id": "57YGgmEdE4G3",
        "outputId": "6f5d0c0e-4ab0-4d27-9929-9d18edf9e1ba"
      },
      "outputs": [
        {
          "name": "stdout",
          "output_type": "stream",
          "text": [
            "Found 1951 images belonging to 4 classes.\n"
          ]
        }
      ],
      "source": [
        "train_datagen = ImageDataGenerator(rescale=1./255,\n",
        "                                      rotation_range=40,\n",
        "                                      width_shift_range=0.2,\n",
        "                                      height_shift_range=0.2,\n",
        "                                      shear_range=0.2,\n",
        "                                      zoom_range=0.2,\n",
        "                                      horizontal_flip=True,\n",
        "                                      fill_mode='nearest')\n",
        " \n",
        "training_data = train_datagen.flow_from_directory(train_data_path, \n",
        "                                      target_size=(150, 150),\n",
        "                                      batch_size=32,\n",
        "                                      class_mode='binary') "
      ]
    },
    {
      "cell_type": "code",
      "execution_count": null,
      "metadata": {
        "colab": {
          "base_uri": "https://localhost:8080/"
        },
        "id": "MaBd47kQE4G7",
        "outputId": "e5fb5775-c58c-4b9a-df27-34cceca51aca"
      },
      "outputs": [
        {
          "name": "stdout",
          "output_type": "stream",
          "text": [
            "427 fresh cotton leaf images\n",
            "288 diseased cotton leaf images\n",
            "815 diseased cotton plant images\n",
            "421 fresh cotton plant images\n"
          ]
        }
      ],
      "source": [
        "for i in os.listdir(\"/content/drive/MyDrive/plant data/data/train/\"):\n",
        "    print(str(len(os.listdir(\"/content/drive/MyDrive/plant data/data/train/\"+i))) +\" \"+ i +\" images\")"
      ]
    },
    {
      "cell_type": "code",
      "execution_count": null,
      "metadata": {
        "colab": {
          "base_uri": "https://localhost:8080/"
        },
        "id": "xDgofgpeE4G-",
        "outputId": "6408edbd-a325-4729-c270-7d86fc8bf3ff"
      },
      "outputs": [
        {
          "name": "stdout",
          "output_type": "stream",
          "text": [
            "Found 324 images belonging to 4 classes.\n"
          ]
        }
      ],
      "source": [
        "valid_datagen = ImageDataGenerator(rescale=1./255)\n",
        "\n",
        "valid_data = valid_datagen.flow_from_directory(validation_data_path,\n",
        "                                  target_size=(150,150),\n",
        "                                  batch_size=32,\n",
        "                                  class_mode='binary')"
      ]
    },
    {
      "cell_type": "code",
      "execution_count": null,
      "metadata": {
        "colab": {
          "base_uri": "https://localhost:8080/"
        },
        "id": "Fd0SovYtE4HD",
        "outputId": "291182c6-0f79-43d3-c071-77001f83b2c2"
      },
      "outputs": [
        {
          "name": "stdout",
          "output_type": "stream",
          "text": [
            "101 diseased cotton plant images\n",
            "55 diseased cotton leaf images\n",
            "80 fresh cotton leaf images\n",
            "88 fresh cotton plant images\n"
          ]
        }
      ],
      "source": [
        "for i in os.listdir(\"/content/drive/MyDrive/plant data/data/val/\"):\n",
        "    print(str(len(os.listdir(\"/content/drive/MyDrive/plant data/data/val/\"+i))) +\" \"+ i +\" images\")"
      ]
    },
    {
      "cell_type": "code",
      "execution_count": null,
      "metadata": {
        "id": "E8HVOk9bE4HI"
      },
      "outputs": [],
      "source": [
        "model_path = 'test.h5'\n",
        "checkpoint = ModelCheckpoint(model_path, monitor='val_accuracy', verbose=1, save_best_only=True, mode='max')\n",
        "callbacks_list = [checkpoint]"
      ]
    },
    {
      "cell_type": "code",
      "execution_count": null,
      "metadata": {
        "colab": {
          "base_uri": "https://localhost:8080/"
        },
        "id": "Mq8pkepGE4HN",
        "outputId": "b07cfeab-7e4c-4c22-ee48-ce69fee800c6"
      },
      "outputs": [
        {
          "name": "stdout",
          "output_type": "stream",
          "text": [
            "Model: \"sequential_1\"\n",
            "_________________________________________________________________\n",
            " Layer (type)                Output Shape              Param #   \n",
            "=================================================================\n",
            " conv2d_4 (Conv2D)           (None, 148, 148, 32)      896       \n",
            "                                                                 \n",
            " max_pooling2d_4 (MaxPooling  (None, 74, 74, 32)       0         \n",
            " 2D)                                                             \n",
            "                                                                 \n",
            " conv2d_5 (Conv2D)           (None, 72, 72, 64)        18496     \n",
            "                                                                 \n",
            " max_pooling2d_5 (MaxPooling  (None, 36, 36, 64)       0         \n",
            " 2D)                                                             \n",
            "                                                                 \n",
            " conv2d_6 (Conv2D)           (None, 34, 34, 128)       73856     \n",
            "                                                                 \n",
            " max_pooling2d_6 (MaxPooling  (None, 17, 17, 128)      0         \n",
            " 2D)                                                             \n",
            "                                                                 \n",
            " conv2d_7 (Conv2D)           (None, 15, 15, 256)       295168    \n",
            "                                                                 \n",
            " max_pooling2d_7 (MaxPooling  (None, 7, 7, 256)        0         \n",
            " 2D)                                                             \n",
            "                                                                 \n",
            " dropout_3 (Dropout)         (None, 7, 7, 256)         0         \n",
            "                                                                 \n",
            " flatten_1 (Flatten)         (None, 12544)             0         \n",
            "                                                                 \n",
            " dense_3 (Dense)             (None, 128)               1605760   \n",
            "                                                                 \n",
            " dropout_4 (Dropout)         (None, 128)               0         \n",
            "                                                                 \n",
            " dense_4 (Dense)             (None, 256)               33024     \n",
            "                                                                 \n",
            " dropout_5 (Dropout)         (None, 256)               0         \n",
            "                                                                 \n",
            " dense_5 (Dense)             (None, 4)                 1028      \n",
            "                                                                 \n",
            "=================================================================\n",
            "Total params: 2,028,228\n",
            "Trainable params: 2,028,228\n",
            "Non-trainable params: 0\n",
            "_________________________________________________________________\n"
          ]
        }
      ],
      "source": [
        "model = keras.models.Sequential([\n",
        "                                    keras.layers.Conv2D(filters=32, kernel_size=3, input_shape=[150, 150, 3]),\n",
        "                                    keras.layers.MaxPooling2D(pool_size=(2,2)),\n",
        "                                    keras.layers.Conv2D(filters=64, kernel_size=3),\n",
        "                                    keras.layers.MaxPooling2D(pool_size=(2,2)),\n",
        "                                    keras.layers.Conv2D(filters=128, kernel_size=3),\n",
        "                                    keras.layers.MaxPooling2D(pool_size=(2,2)),                                    \n",
        "                                    keras.layers.Conv2D(filters=256, kernel_size=3),\n",
        "                                    keras.layers.MaxPooling2D(pool_size=(2,2)),\n",
        " \n",
        "                                    keras.layers.Dropout(0.5),                                                                        \n",
        "                                    keras.layers.Flatten(), \n",
        "                                    keras.layers.Dense(units=128, activation='relu'), \n",
        "                                    keras.layers.Dropout(0.1),                                    \n",
        "                                    keras.layers.Dense(units=256, activation='relu'),                                    \n",
        "                                    keras.layers.Dropout(0.25),                                    \n",
        "                                    keras.layers.Dense(units=4, activation='softmax') \n",
        "])\n",
        " \n",
        " \n",
        "model.compile(optimizer = Adam(lr=0.0001), loss='sparse_categorical_crossentropy', metrics=['accuracy'])\n",
        "model.summary()"
      ]
    },
    {
      "cell_type": "code",
      "execution_count": 26,
      "metadata": {
        "colab": {
          "base_uri": "https://localhost:8080/"
        },
        "id": "UKwE1fSaE4HS",
        "outputId": "d8bceb63-d1b6-44e9-def0-ec13a18f7f65"
      },
      "outputs": [
        {
          "output_type": "stream",
          "name": "stdout",
          "text": [
            "Epoch 1/100\n",
            "61/61 [==============================] - ETA: 0s - loss: 1.2690 - accuracy: 0.4249 \n",
            "Epoch 1: val_accuracy improved from -inf to 0.41667, saving model to test.h5\n",
            "61/61 [==============================] - 1241s 20s/step - loss: 1.2690 - accuracy: 0.4249 - val_loss: 1.1219 - val_accuracy: 0.4167\n",
            "Epoch 2/100\n",
            "61/61 [==============================] - ETA: 0s - loss: 1.0995 - accuracy: 0.5177\n",
            "Epoch 2: val_accuracy improved from 0.41667 to 0.57099, saving model to test.h5\n",
            "61/61 [==============================] - 124s 2s/step - loss: 1.0995 - accuracy: 0.5177 - val_loss: 0.9673 - val_accuracy: 0.5710\n",
            "Epoch 3/100\n",
            "61/61 [==============================] - ETA: 0s - loss: 0.9572 - accuracy: 0.6151\n",
            "Epoch 3: val_accuracy did not improve from 0.57099\n",
            "61/61 [==============================] - 126s 2s/step - loss: 0.9572 - accuracy: 0.6151 - val_loss: 0.9625 - val_accuracy: 0.5586\n",
            "Epoch 4/100\n",
            "61/61 [==============================] - ETA: 0s - loss: 0.8835 - accuracy: 0.6474\n",
            "Epoch 4: val_accuracy improved from 0.57099 to 0.60185, saving model to test.h5\n",
            "61/61 [==============================] - 125s 2s/step - loss: 0.8835 - accuracy: 0.6474 - val_loss: 0.9258 - val_accuracy: 0.6019\n",
            "Epoch 5/100\n",
            "61/61 [==============================] - ETA: 0s - loss: 0.8424 - accuracy: 0.6632\n",
            "Epoch 5: val_accuracy improved from 0.60185 to 0.64198, saving model to test.h5\n",
            "61/61 [==============================] - 126s 2s/step - loss: 0.8424 - accuracy: 0.6632 - val_loss: 0.8674 - val_accuracy: 0.6420\n",
            "Epoch 6/100\n",
            "61/61 [==============================] - ETA: 0s - loss: 0.8118 - accuracy: 0.6622\n",
            "Epoch 6: val_accuracy improved from 0.64198 to 0.67284, saving model to test.h5\n",
            "61/61 [==============================] - 124s 2s/step - loss: 0.8118 - accuracy: 0.6622 - val_loss: 0.8016 - val_accuracy: 0.6728\n",
            "Epoch 7/100\n",
            "61/61 [==============================] - ETA: 0s - loss: 0.8082 - accuracy: 0.6740\n",
            "Epoch 7: val_accuracy improved from 0.67284 to 0.67901, saving model to test.h5\n",
            "61/61 [==============================] - 126s 2s/step - loss: 0.8082 - accuracy: 0.6740 - val_loss: 0.8715 - val_accuracy: 0.6790\n",
            "Epoch 8/100\n",
            "61/61 [==============================] - ETA: 0s - loss: 0.7998 - accuracy: 0.6756\n",
            "Epoch 8: val_accuracy improved from 0.67901 to 0.69444, saving model to test.h5\n",
            "61/61 [==============================] - 126s 2s/step - loss: 0.7998 - accuracy: 0.6756 - val_loss: 0.7661 - val_accuracy: 0.6944\n",
            "Epoch 9/100\n",
            "61/61 [==============================] - ETA: 0s - loss: 0.7528 - accuracy: 0.6981\n",
            "Epoch 9: val_accuracy did not improve from 0.69444\n",
            "61/61 [==============================] - 126s 2s/step - loss: 0.7528 - accuracy: 0.6981 - val_loss: 0.7542 - val_accuracy: 0.6821\n",
            "Epoch 10/100\n",
            "61/61 [==============================] - ETA: 0s - loss: 0.7536 - accuracy: 0.7032\n",
            "Epoch 10: val_accuracy did not improve from 0.69444\n",
            "61/61 [==============================] - 125s 2s/step - loss: 0.7536 - accuracy: 0.7032 - val_loss: 0.8442 - val_accuracy: 0.6265\n",
            "Epoch 11/100\n",
            "61/61 [==============================] - ETA: 0s - loss: 0.7376 - accuracy: 0.7099\n",
            "Epoch 11: val_accuracy improved from 0.69444 to 0.73148, saving model to test.h5\n",
            "61/61 [==============================] - 128s 2s/step - loss: 0.7376 - accuracy: 0.7099 - val_loss: 0.6633 - val_accuracy: 0.7315\n",
            "Epoch 12/100\n",
            "61/61 [==============================] - ETA: 0s - loss: 0.6908 - accuracy: 0.7422\n",
            "Epoch 12: val_accuracy did not improve from 0.73148\n",
            "61/61 [==============================] - 128s 2s/step - loss: 0.6908 - accuracy: 0.7422 - val_loss: 0.6591 - val_accuracy: 0.7191\n",
            "Epoch 13/100\n",
            "61/61 [==============================] - ETA: 0s - loss: 0.6474 - accuracy: 0.7478\n",
            "Epoch 13: val_accuracy did not improve from 0.73148\n",
            "61/61 [==============================] - 128s 2s/step - loss: 0.6474 - accuracy: 0.7478 - val_loss: 0.6583 - val_accuracy: 0.7315\n",
            "Epoch 14/100\n",
            "61/61 [==============================] - ETA: 0s - loss: 0.6522 - accuracy: 0.7442\n",
            "Epoch 14: val_accuracy did not improve from 0.73148\n",
            "61/61 [==============================] - 124s 2s/step - loss: 0.6522 - accuracy: 0.7442 - val_loss: 0.9449 - val_accuracy: 0.6265\n",
            "Epoch 15/100\n",
            "61/61 [==============================] - ETA: 0s - loss: 0.6442 - accuracy: 0.7483\n",
            "Epoch 15: val_accuracy did not improve from 0.73148\n",
            "61/61 [==============================] - 125s 2s/step - loss: 0.6442 - accuracy: 0.7483 - val_loss: 0.7142 - val_accuracy: 0.7068\n",
            "Epoch 16/100\n",
            "61/61 [==============================] - ETA: 0s - loss: 0.5965 - accuracy: 0.7632\n",
            "Epoch 16: val_accuracy did not improve from 0.73148\n",
            "61/61 [==============================] - 125s 2s/step - loss: 0.5965 - accuracy: 0.7632 - val_loss: 0.9753 - val_accuracy: 0.6389\n",
            "Epoch 17/100\n",
            "61/61 [==============================] - ETA: 0s - loss: 0.5358 - accuracy: 0.7945\n",
            "Epoch 17: val_accuracy improved from 0.73148 to 0.76235, saving model to test.h5\n",
            "61/61 [==============================] - 125s 2s/step - loss: 0.5358 - accuracy: 0.7945 - val_loss: 0.5596 - val_accuracy: 0.7623\n",
            "Epoch 18/100\n",
            "61/61 [==============================] - ETA: 0s - loss: 0.5499 - accuracy: 0.7955\n",
            "Epoch 18: val_accuracy improved from 0.76235 to 0.82716, saving model to test.h5\n",
            "61/61 [==============================] - 123s 2s/step - loss: 0.5499 - accuracy: 0.7955 - val_loss: 0.4103 - val_accuracy: 0.8272\n",
            "Epoch 19/100\n",
            "61/61 [==============================] - ETA: 0s - loss: 0.5345 - accuracy: 0.7924\n",
            "Epoch 19: val_accuracy did not improve from 0.82716\n",
            "61/61 [==============================] - 127s 2s/step - loss: 0.5345 - accuracy: 0.7924 - val_loss: 0.5185 - val_accuracy: 0.7809\n",
            "Epoch 20/100\n",
            "61/61 [==============================] - ETA: 0s - loss: 0.5201 - accuracy: 0.8032\n",
            "Epoch 20: val_accuracy did not improve from 0.82716\n",
            "61/61 [==============================] - 127s 2s/step - loss: 0.5201 - accuracy: 0.8032 - val_loss: 1.0164 - val_accuracy: 0.6296\n",
            "Epoch 21/100\n",
            "61/61 [==============================] - ETA: 0s - loss: 0.4995 - accuracy: 0.8068\n",
            "Epoch 21: val_accuracy did not improve from 0.82716\n",
            "61/61 [==============================] - 126s 2s/step - loss: 0.4995 - accuracy: 0.8068 - val_loss: 0.6718 - val_accuracy: 0.7346\n",
            "Epoch 22/100\n",
            "61/61 [==============================] - ETA: 0s - loss: 0.5080 - accuracy: 0.7970\n",
            "Epoch 22: val_accuracy did not improve from 0.82716\n",
            "61/61 [==============================] - 123s 2s/step - loss: 0.5080 - accuracy: 0.7970 - val_loss: 0.5529 - val_accuracy: 0.7716\n",
            "Epoch 23/100\n",
            "61/61 [==============================] - ETA: 0s - loss: 0.4750 - accuracy: 0.8186\n",
            "Epoch 23: val_accuracy did not improve from 0.82716\n",
            "61/61 [==============================] - 125s 2s/step - loss: 0.4750 - accuracy: 0.8186 - val_loss: 0.5195 - val_accuracy: 0.7963\n",
            "Epoch 24/100\n",
            "61/61 [==============================] - ETA: 0s - loss: 0.4925 - accuracy: 0.8037\n",
            "Epoch 24: val_accuracy did not improve from 0.82716\n",
            "61/61 [==============================] - 125s 2s/step - loss: 0.4925 - accuracy: 0.8037 - val_loss: 0.5422 - val_accuracy: 0.7778\n",
            "Epoch 25/100\n",
            "61/61 [==============================] - ETA: 0s - loss: 0.4553 - accuracy: 0.8237\n",
            "Epoch 25: val_accuracy did not improve from 0.82716\n",
            "61/61 [==============================] - 123s 2s/step - loss: 0.4553 - accuracy: 0.8237 - val_loss: 0.5810 - val_accuracy: 0.7654\n",
            "Epoch 26/100\n",
            "61/61 [==============================] - ETA: 0s - loss: 0.4486 - accuracy: 0.8283\n",
            "Epoch 26: val_accuracy did not improve from 0.82716\n",
            "61/61 [==============================] - 125s 2s/step - loss: 0.4486 - accuracy: 0.8283 - val_loss: 0.3898 - val_accuracy: 0.8272\n",
            "Epoch 27/100\n",
            "61/61 [==============================] - ETA: 0s - loss: 0.4521 - accuracy: 0.8232\n",
            "Epoch 27: val_accuracy did not improve from 0.82716\n",
            "61/61 [==============================] - 124s 2s/step - loss: 0.4521 - accuracy: 0.8232 - val_loss: 0.7853 - val_accuracy: 0.6883\n",
            "Epoch 28/100\n",
            "61/61 [==============================] - ETA: 0s - loss: 0.4245 - accuracy: 0.8360\n",
            "Epoch 28: val_accuracy did not improve from 0.82716\n",
            "61/61 [==============================] - 124s 2s/step - loss: 0.4245 - accuracy: 0.8360 - val_loss: 0.6226 - val_accuracy: 0.7500\n",
            "Epoch 29/100\n",
            "61/61 [==============================] - ETA: 0s - loss: 0.4464 - accuracy: 0.8247\n",
            "Epoch 29: val_accuracy did not improve from 0.82716\n",
            "61/61 [==============================] - 124s 2s/step - loss: 0.4464 - accuracy: 0.8247 - val_loss: 1.0768 - val_accuracy: 0.6204\n",
            "Epoch 30/100\n",
            "61/61 [==============================] - ETA: 0s - loss: 0.4815 - accuracy: 0.8145\n",
            "Epoch 30: val_accuracy did not improve from 0.82716\n",
            "61/61 [==============================] - 125s 2s/step - loss: 0.4815 - accuracy: 0.8145 - val_loss: 0.7300 - val_accuracy: 0.7315\n",
            "Epoch 31/100\n",
            "61/61 [==============================] - ETA: 0s - loss: 0.4143 - accuracy: 0.8442\n",
            "Epoch 31: val_accuracy did not improve from 0.82716\n",
            "61/61 [==============================] - 124s 2s/step - loss: 0.4143 - accuracy: 0.8442 - val_loss: 0.6474 - val_accuracy: 0.7531\n",
            "Epoch 32/100\n",
            "61/61 [==============================] - ETA: 0s - loss: 0.3974 - accuracy: 0.8580\n",
            "Epoch 32: val_accuracy did not improve from 0.82716\n",
            "61/61 [==============================] - 124s 2s/step - loss: 0.3974 - accuracy: 0.8580 - val_loss: 0.6932 - val_accuracy: 0.7315\n",
            "Epoch 33/100\n",
            "61/61 [==============================] - ETA: 0s - loss: 0.4321 - accuracy: 0.8355\n",
            "Epoch 33: val_accuracy did not improve from 0.82716\n",
            "61/61 [==============================] - 122s 2s/step - loss: 0.4321 - accuracy: 0.8355 - val_loss: 0.6154 - val_accuracy: 0.7716\n",
            "Epoch 34/100\n",
            "61/61 [==============================] - ETA: 0s - loss: 0.4008 - accuracy: 0.8473\n",
            "Epoch 34: val_accuracy did not improve from 0.82716\n",
            "61/61 [==============================] - 124s 2s/step - loss: 0.4008 - accuracy: 0.8473 - val_loss: 0.5246 - val_accuracy: 0.7840\n",
            "Epoch 35/100\n",
            "61/61 [==============================] - ETA: 0s - loss: 0.3746 - accuracy: 0.8596\n",
            "Epoch 35: val_accuracy did not improve from 0.82716\n",
            "61/61 [==============================] - 124s 2s/step - loss: 0.3746 - accuracy: 0.8596 - val_loss: 0.6217 - val_accuracy: 0.7685\n",
            "Epoch 36/100\n",
            "61/61 [==============================] - ETA: 0s - loss: 0.4227 - accuracy: 0.8370\n",
            "Epoch 36: val_accuracy improved from 0.82716 to 0.89198, saving model to test.h5\n",
            "61/61 [==============================] - 122s 2s/step - loss: 0.4227 - accuracy: 0.8370 - val_loss: 0.2814 - val_accuracy: 0.8920\n",
            "Epoch 37/100\n",
            "61/61 [==============================] - ETA: 0s - loss: 0.3773 - accuracy: 0.8585\n",
            "Epoch 37: val_accuracy did not improve from 0.89198\n",
            "61/61 [==============================] - 125s 2s/step - loss: 0.3773 - accuracy: 0.8585 - val_loss: 0.7767 - val_accuracy: 0.7099\n",
            "Epoch 38/100\n",
            "61/61 [==============================] - ETA: 0s - loss: 0.4025 - accuracy: 0.8503\n",
            "Epoch 38: val_accuracy did not improve from 0.89198\n",
            "61/61 [==============================] - 125s 2s/step - loss: 0.4025 - accuracy: 0.8503 - val_loss: 0.4456 - val_accuracy: 0.8117\n",
            "Epoch 39/100\n",
            "61/61 [==============================] - ETA: 0s - loss: 0.3706 - accuracy: 0.8596\n",
            "Epoch 39: val_accuracy did not improve from 0.89198\n",
            "61/61 [==============================] - 122s 2s/step - loss: 0.3706 - accuracy: 0.8596 - val_loss: 0.4567 - val_accuracy: 0.8025\n",
            "Epoch 40/100\n",
            "61/61 [==============================] - ETA: 0s - loss: 0.3691 - accuracy: 0.8642\n",
            "Epoch 40: val_accuracy did not improve from 0.89198\n",
            "61/61 [==============================] - 125s 2s/step - loss: 0.3691 - accuracy: 0.8642 - val_loss: 0.2995 - val_accuracy: 0.8735\n",
            "Epoch 41/100\n",
            "61/61 [==============================] - ETA: 0s - loss: 0.3637 - accuracy: 0.8662\n",
            "Epoch 41: val_accuracy did not improve from 0.89198\n",
            "61/61 [==============================] - 125s 2s/step - loss: 0.3637 - accuracy: 0.8662 - val_loss: 0.4201 - val_accuracy: 0.8395\n",
            "Epoch 42/100\n",
            "61/61 [==============================] - ETA: 0s - loss: 0.3666 - accuracy: 0.8560\n",
            "Epoch 42: val_accuracy did not improve from 0.89198\n",
            "61/61 [==============================] - 125s 2s/step - loss: 0.3666 - accuracy: 0.8560 - val_loss: 0.4174 - val_accuracy: 0.8272\n",
            "Epoch 43/100\n",
            "61/61 [==============================] - ETA: 0s - loss: 0.3661 - accuracy: 0.8580\n",
            "Epoch 43: val_accuracy improved from 0.89198 to 0.90741, saving model to test.h5\n",
            "61/61 [==============================] - 123s 2s/step - loss: 0.3661 - accuracy: 0.8580 - val_loss: 0.2335 - val_accuracy: 0.9074\n",
            "Epoch 44/100\n",
            "61/61 [==============================] - ETA: 0s - loss: 0.3624 - accuracy: 0.8626\n",
            "Epoch 44: val_accuracy did not improve from 0.90741\n",
            "61/61 [==============================] - 125s 2s/step - loss: 0.3624 - accuracy: 0.8626 - val_loss: 0.3238 - val_accuracy: 0.8704\n",
            "Epoch 45/100\n",
            "61/61 [==============================] - ETA: 0s - loss: 0.3943 - accuracy: 0.8498\n",
            "Epoch 45: val_accuracy did not improve from 0.90741\n",
            "61/61 [==============================] - 125s 2s/step - loss: 0.3943 - accuracy: 0.8498 - val_loss: 0.2708 - val_accuracy: 0.8889\n",
            "Epoch 46/100\n",
            "61/61 [==============================] - ETA: 0s - loss: 0.3343 - accuracy: 0.8749\n",
            "Epoch 46: val_accuracy did not improve from 0.90741\n",
            "61/61 [==============================] - 124s 2s/step - loss: 0.3343 - accuracy: 0.8749 - val_loss: 0.7480 - val_accuracy: 0.7500\n",
            "Epoch 47/100\n",
            "61/61 [==============================] - ETA: 0s - loss: 0.3369 - accuracy: 0.8760\n",
            "Epoch 47: val_accuracy did not improve from 0.90741\n",
            "61/61 [==============================] - 126s 2s/step - loss: 0.3369 - accuracy: 0.8760 - val_loss: 0.4941 - val_accuracy: 0.8086\n",
            "Epoch 48/100\n",
            "61/61 [==============================] - ETA: 0s - loss: 0.3410 - accuracy: 0.8765\n",
            "Epoch 48: val_accuracy did not improve from 0.90741\n",
            "61/61 [==============================] - 125s 2s/step - loss: 0.3410 - accuracy: 0.8765 - val_loss: 0.6219 - val_accuracy: 0.7685\n",
            "Epoch 49/100\n",
            "61/61 [==============================] - ETA: 0s - loss: 0.3336 - accuracy: 0.8744\n",
            "Epoch 49: val_accuracy did not improve from 0.90741\n",
            "61/61 [==============================] - 124s 2s/step - loss: 0.3336 - accuracy: 0.8744 - val_loss: 0.5511 - val_accuracy: 0.7901\n",
            "Epoch 50/100\n",
            "61/61 [==============================] - ETA: 0s - loss: 0.3692 - accuracy: 0.8606\n",
            "Epoch 50: val_accuracy did not improve from 0.90741\n",
            "61/61 [==============================] - 123s 2s/step - loss: 0.3692 - accuracy: 0.8606 - val_loss: 0.3265 - val_accuracy: 0.8642\n",
            "Epoch 51/100\n",
            "61/61 [==============================] - ETA: 0s - loss: 0.3158 - accuracy: 0.8867\n",
            "Epoch 51: val_accuracy did not improve from 0.90741\n",
            "61/61 [==============================] - 125s 2s/step - loss: 0.3158 - accuracy: 0.8867 - val_loss: 0.2776 - val_accuracy: 0.8920\n",
            "Epoch 52/100\n",
            "61/61 [==============================] - ETA: 0s - loss: 0.3198 - accuracy: 0.8749\n",
            "Epoch 52: val_accuracy did not improve from 0.90741\n",
            "61/61 [==============================] - 125s 2s/step - loss: 0.3198 - accuracy: 0.8749 - val_loss: 0.3378 - val_accuracy: 0.8673\n",
            "Epoch 53/100\n",
            "61/61 [==============================] - ETA: 0s - loss: 0.3019 - accuracy: 0.8924\n",
            "Epoch 53: val_accuracy did not improve from 0.90741\n",
            "61/61 [==============================] - 125s 2s/step - loss: 0.3019 - accuracy: 0.8924 - val_loss: 0.4786 - val_accuracy: 0.8025\n",
            "Epoch 54/100\n",
            "61/61 [==============================] - ETA: 0s - loss: 0.3100 - accuracy: 0.8811\n",
            "Epoch 54: val_accuracy did not improve from 0.90741\n",
            "61/61 [==============================] - 124s 2s/step - loss: 0.3100 - accuracy: 0.8811 - val_loss: 0.2912 - val_accuracy: 0.8704\n",
            "Epoch 55/100\n",
            "61/61 [==============================] - ETA: 0s - loss: 0.3138 - accuracy: 0.8801\n",
            "Epoch 55: val_accuracy did not improve from 0.90741\n",
            "61/61 [==============================] - 125s 2s/step - loss: 0.3138 - accuracy: 0.8801 - val_loss: 0.2799 - val_accuracy: 0.8920\n",
            "Epoch 56/100\n",
            "61/61 [==============================] - ETA: 0s - loss: 0.3080 - accuracy: 0.8785\n",
            "Epoch 56: val_accuracy improved from 0.90741 to 0.91667, saving model to test.h5\n",
            "61/61 [==============================] - 125s 2s/step - loss: 0.3080 - accuracy: 0.8785 - val_loss: 0.2290 - val_accuracy: 0.9167\n",
            "Epoch 57/100\n",
            "61/61 [==============================] - ETA: 0s - loss: 0.2959 - accuracy: 0.8847\n",
            "Epoch 57: val_accuracy improved from 0.91667 to 0.93519, saving model to test.h5\n",
            "61/61 [==============================] - 124s 2s/step - loss: 0.2959 - accuracy: 0.8847 - val_loss: 0.1630 - val_accuracy: 0.9352\n",
            "Epoch 58/100\n",
            "61/61 [==============================] - ETA: 0s - loss: 0.3381 - accuracy: 0.8749\n",
            "Epoch 58: val_accuracy did not improve from 0.93519\n",
            "61/61 [==============================] - 126s 2s/step - loss: 0.3381 - accuracy: 0.8749 - val_loss: 0.8192 - val_accuracy: 0.7068\n",
            "Epoch 59/100\n",
            "61/61 [==============================] - ETA: 0s - loss: 0.3236 - accuracy: 0.8770\n",
            "Epoch 59: val_accuracy did not improve from 0.93519\n",
            "61/61 [==============================] - 125s 2s/step - loss: 0.3236 - accuracy: 0.8770 - val_loss: 0.2821 - val_accuracy: 0.9012\n",
            "Epoch 60/100\n",
            "61/61 [==============================] - ETA: 0s - loss: 0.3006 - accuracy: 0.8852\n",
            "Epoch 60: val_accuracy did not improve from 0.93519\n",
            "61/61 [==============================] - 125s 2s/step - loss: 0.3006 - accuracy: 0.8852 - val_loss: 0.2517 - val_accuracy: 0.8981\n",
            "Epoch 61/100\n",
            "61/61 [==============================] - ETA: 0s - loss: 0.2979 - accuracy: 0.8842\n",
            "Epoch 61: val_accuracy did not improve from 0.93519\n",
            "61/61 [==============================] - 123s 2s/step - loss: 0.2979 - accuracy: 0.8842 - val_loss: 0.5717 - val_accuracy: 0.7654\n",
            "Epoch 62/100\n",
            "61/61 [==============================] - ETA: 0s - loss: 0.3013 - accuracy: 0.8919\n",
            "Epoch 62: val_accuracy did not improve from 0.93519\n",
            "61/61 [==============================] - 125s 2s/step - loss: 0.3013 - accuracy: 0.8919 - val_loss: 0.2517 - val_accuracy: 0.8951\n",
            "Epoch 63/100\n",
            "61/61 [==============================] - ETA: 0s - loss: 0.2728 - accuracy: 0.9026\n",
            "Epoch 63: val_accuracy did not improve from 0.93519\n",
            "61/61 [==============================] - 125s 2s/step - loss: 0.2728 - accuracy: 0.9026 - val_loss: 0.3003 - val_accuracy: 0.8827\n",
            "Epoch 64/100\n",
            "61/61 [==============================] - ETA: 0s - loss: 0.2861 - accuracy: 0.8960\n",
            "Epoch 64: val_accuracy did not improve from 0.93519\n",
            "61/61 [==============================] - 123s 2s/step - loss: 0.2861 - accuracy: 0.8960 - val_loss: 0.2398 - val_accuracy: 0.9167\n",
            "Epoch 65/100\n",
            "61/61 [==============================] - ETA: 0s - loss: 0.3236 - accuracy: 0.8770\n",
            "Epoch 65: val_accuracy did not improve from 0.93519\n",
            "61/61 [==============================] - 123s 2s/step - loss: 0.3236 - accuracy: 0.8770 - val_loss: 0.2259 - val_accuracy: 0.9074\n",
            "Epoch 66/100\n",
            "61/61 [==============================] - ETA: 0s - loss: 0.3058 - accuracy: 0.8821\n",
            "Epoch 66: val_accuracy did not improve from 0.93519\n",
            "61/61 [==============================] - 125s 2s/step - loss: 0.3058 - accuracy: 0.8821 - val_loss: 0.2268 - val_accuracy: 0.9074\n",
            "Epoch 67/100\n",
            "61/61 [==============================] - ETA: 0s - loss: 0.2731 - accuracy: 0.8965\n",
            "Epoch 67: val_accuracy did not improve from 0.93519\n",
            "61/61 [==============================] - 125s 2s/step - loss: 0.2731 - accuracy: 0.8965 - val_loss: 0.2262 - val_accuracy: 0.9105\n",
            "Epoch 68/100\n",
            "61/61 [==============================] - ETA: 0s - loss: 0.2768 - accuracy: 0.8954\n",
            "Epoch 68: val_accuracy did not improve from 0.93519\n",
            "61/61 [==============================] - 123s 2s/step - loss: 0.2768 - accuracy: 0.8954 - val_loss: 0.5437 - val_accuracy: 0.7932\n",
            "Epoch 69/100\n",
            "61/61 [==============================] - ETA: 0s - loss: 0.3159 - accuracy: 0.8919\n",
            "Epoch 69: val_accuracy did not improve from 0.93519\n",
            "61/61 [==============================] - 128s 2s/step - loss: 0.3159 - accuracy: 0.8919 - val_loss: 0.2225 - val_accuracy: 0.9198\n",
            "Epoch 70/100\n",
            "61/61 [==============================] - ETA: 0s - loss: 0.2778 - accuracy: 0.9006\n",
            "Epoch 70: val_accuracy did not improve from 0.93519\n",
            "61/61 [==============================] - 125s 2s/step - loss: 0.2778 - accuracy: 0.9006 - val_loss: 0.3055 - val_accuracy: 0.8765\n",
            "Epoch 71/100\n",
            "61/61 [==============================] - ETA: 0s - loss: 0.2600 - accuracy: 0.9057\n",
            "Epoch 71: val_accuracy did not improve from 0.93519\n",
            "61/61 [==============================] - 123s 2s/step - loss: 0.2600 - accuracy: 0.9057 - val_loss: 0.2547 - val_accuracy: 0.8920\n",
            "Epoch 72/100\n",
            "61/61 [==============================] - ETA: 0s - loss: 0.2898 - accuracy: 0.8944\n",
            "Epoch 72: val_accuracy did not improve from 0.93519\n",
            "61/61 [==============================] - 125s 2s/step - loss: 0.2898 - accuracy: 0.8944 - val_loss: 0.2961 - val_accuracy: 0.8920\n",
            "Epoch 73/100\n",
            "61/61 [==============================] - ETA: 0s - loss: 0.2842 - accuracy: 0.8939\n",
            "Epoch 73: val_accuracy did not improve from 0.93519\n",
            "61/61 [==============================] - 125s 2s/step - loss: 0.2842 - accuracy: 0.8939 - val_loss: 0.2042 - val_accuracy: 0.9136\n",
            "Epoch 74/100\n",
            "61/61 [==============================] - ETA: 0s - loss: 0.2809 - accuracy: 0.8970\n",
            "Epoch 74: val_accuracy did not improve from 0.93519\n",
            "61/61 [==============================] - 123s 2s/step - loss: 0.2809 - accuracy: 0.8970 - val_loss: 0.3897 - val_accuracy: 0.8179\n",
            "Epoch 75/100\n",
            "61/61 [==============================] - ETA: 0s - loss: 0.2794 - accuracy: 0.8960\n",
            "Epoch 75: val_accuracy did not improve from 0.93519\n",
            "61/61 [==============================] - 123s 2s/step - loss: 0.2794 - accuracy: 0.8960 - val_loss: 0.2378 - val_accuracy: 0.9198\n",
            "Epoch 76/100\n",
            "61/61 [==============================] - ETA: 0s - loss: 0.2396 - accuracy: 0.9098\n",
            "Epoch 76: val_accuracy improved from 0.93519 to 0.95679, saving model to test.h5\n",
            "61/61 [==============================] - 125s 2s/step - loss: 0.2396 - accuracy: 0.9098 - val_loss: 0.1398 - val_accuracy: 0.9568\n",
            "Epoch 77/100\n",
            "61/61 [==============================] - ETA: 0s - loss: 0.2576 - accuracy: 0.9042\n",
            "Epoch 77: val_accuracy did not improve from 0.95679\n",
            "61/61 [==============================] - 125s 2s/step - loss: 0.2576 - accuracy: 0.9042 - val_loss: 0.1557 - val_accuracy: 0.9475\n",
            "Epoch 78/100\n",
            "61/61 [==============================] - ETA: 0s - loss: 0.2884 - accuracy: 0.8924\n",
            "Epoch 78: val_accuracy improved from 0.95679 to 0.97531, saving model to test.h5\n",
            "61/61 [==============================] - 124s 2s/step - loss: 0.2884 - accuracy: 0.8924 - val_loss: 0.1304 - val_accuracy: 0.9753\n",
            "Epoch 79/100\n",
            "61/61 [==============================] - ETA: 0s - loss: 0.2750 - accuracy: 0.8908\n",
            "Epoch 79: val_accuracy did not improve from 0.97531\n",
            "61/61 [==============================] - 125s 2s/step - loss: 0.2750 - accuracy: 0.8908 - val_loss: 0.3927 - val_accuracy: 0.8488\n",
            "Epoch 80/100\n",
            "61/61 [==============================] - ETA: 0s - loss: 0.2855 - accuracy: 0.8939\n",
            "Epoch 80: val_accuracy did not improve from 0.97531\n",
            "61/61 [==============================] - 125s 2s/step - loss: 0.2855 - accuracy: 0.8939 - val_loss: 0.1684 - val_accuracy: 0.9383\n",
            "Epoch 81/100\n",
            "61/61 [==============================] - ETA: 0s - loss: 0.2409 - accuracy: 0.9062\n",
            "Epoch 81: val_accuracy did not improve from 0.97531\n",
            "61/61 [==============================] - 125s 2s/step - loss: 0.2409 - accuracy: 0.9062 - val_loss: 0.3064 - val_accuracy: 0.8765\n",
            "Epoch 82/100\n",
            "61/61 [==============================] - ETA: 0s - loss: 0.2672 - accuracy: 0.9036\n",
            "Epoch 82: val_accuracy did not improve from 0.97531\n",
            "61/61 [==============================] - 124s 2s/step - loss: 0.2672 - accuracy: 0.9036 - val_loss: 0.1470 - val_accuracy: 0.9599\n",
            "Epoch 83/100\n",
            "61/61 [==============================] - ETA: 0s - loss: 0.2520 - accuracy: 0.9083\n",
            "Epoch 83: val_accuracy did not improve from 0.97531\n",
            "61/61 [==============================] - 126s 2s/step - loss: 0.2520 - accuracy: 0.9083 - val_loss: 0.1676 - val_accuracy: 0.9444\n",
            "Epoch 84/100\n",
            "61/61 [==============================] - ETA: 0s - loss: 0.2658 - accuracy: 0.9001\n",
            "Epoch 84: val_accuracy did not improve from 0.97531\n",
            "61/61 [==============================] - 125s 2s/step - loss: 0.2658 - accuracy: 0.9001 - val_loss: 0.1807 - val_accuracy: 0.9383\n",
            "Epoch 85/100\n",
            "61/61 [==============================] - ETA: 0s - loss: 0.2212 - accuracy: 0.9175\n",
            "Epoch 85: val_accuracy did not improve from 0.97531\n",
            "61/61 [==============================] - 124s 2s/step - loss: 0.2212 - accuracy: 0.9175 - val_loss: 0.1455 - val_accuracy: 0.9475\n",
            "Epoch 86/100\n",
            "61/61 [==============================] - ETA: 0s - loss: 0.2376 - accuracy: 0.9124\n",
            "Epoch 86: val_accuracy did not improve from 0.97531\n",
            "61/61 [==============================] - 125s 2s/step - loss: 0.2376 - accuracy: 0.9124 - val_loss: 0.1270 - val_accuracy: 0.9599\n",
            "Epoch 87/100\n",
            "61/61 [==============================] - ETA: 0s - loss: 0.2681 - accuracy: 0.9042\n",
            "Epoch 87: val_accuracy did not improve from 0.97531\n",
            "61/61 [==============================] - 126s 2s/step - loss: 0.2681 - accuracy: 0.9042 - val_loss: 0.2019 - val_accuracy: 0.9383\n",
            "Epoch 88/100\n",
            "61/61 [==============================] - ETA: 0s - loss: 0.2411 - accuracy: 0.9134\n",
            "Epoch 88: val_accuracy did not improve from 0.97531\n",
            "61/61 [==============================] - 125s 2s/step - loss: 0.2411 - accuracy: 0.9134 - val_loss: 0.2607 - val_accuracy: 0.9105\n",
            "Epoch 89/100\n",
            "61/61 [==============================] - ETA: 0s - loss: 0.2528 - accuracy: 0.9113\n",
            "Epoch 89: val_accuracy did not improve from 0.97531\n",
            "61/61 [==============================] - 124s 2s/step - loss: 0.2528 - accuracy: 0.9113 - val_loss: 0.1699 - val_accuracy: 0.9259\n",
            "Epoch 90/100\n",
            "61/61 [==============================] - ETA: 0s - loss: 0.2688 - accuracy: 0.9011\n",
            "Epoch 90: val_accuracy did not improve from 0.97531\n",
            "61/61 [==============================] - 126s 2s/step - loss: 0.2688 - accuracy: 0.9011 - val_loss: 0.2829 - val_accuracy: 0.8858\n",
            "Epoch 91/100\n",
            "61/61 [==============================] - ETA: 0s - loss: 0.2314 - accuracy: 0.9134\n",
            "Epoch 91: val_accuracy did not improve from 0.97531\n",
            "61/61 [==============================] - 127s 2s/step - loss: 0.2314 - accuracy: 0.9134 - val_loss: 0.1658 - val_accuracy: 0.9352\n",
            "Epoch 92/100\n",
            "61/61 [==============================] - ETA: 0s - loss: 0.2364 - accuracy: 0.9129\n",
            "Epoch 92: val_accuracy did not improve from 0.97531\n",
            "61/61 [==============================] - 124s 2s/step - loss: 0.2364 - accuracy: 0.9129 - val_loss: 0.1713 - val_accuracy: 0.9321\n",
            "Epoch 93/100\n",
            "61/61 [==============================] - ETA: 0s - loss: 0.2343 - accuracy: 0.9129\n",
            "Epoch 93: val_accuracy did not improve from 0.97531\n",
            "61/61 [==============================] - 126s 2s/step - loss: 0.2343 - accuracy: 0.9129 - val_loss: 0.3276 - val_accuracy: 0.8920\n",
            "Epoch 94/100\n",
            "61/61 [==============================] - ETA: 0s - loss: 0.2188 - accuracy: 0.9175\n",
            "Epoch 94: val_accuracy did not improve from 0.97531\n",
            "61/61 [==============================] - 125s 2s/step - loss: 0.2188 - accuracy: 0.9175 - val_loss: 0.1714 - val_accuracy: 0.9444\n",
            "Epoch 95/100\n",
            "61/61 [==============================] - ETA: 0s - loss: 0.2539 - accuracy: 0.9088\n",
            "Epoch 95: val_accuracy did not improve from 0.97531\n",
            "61/61 [==============================] - 125s 2s/step - loss: 0.2539 - accuracy: 0.9088 - val_loss: 0.1533 - val_accuracy: 0.9475\n",
            "Epoch 96/100\n",
            "61/61 [==============================] - ETA: 0s - loss: 0.2280 - accuracy: 0.9200\n",
            "Epoch 96: val_accuracy did not improve from 0.97531\n",
            "61/61 [==============================] - 124s 2s/step - loss: 0.2280 - accuracy: 0.9200 - val_loss: 0.1873 - val_accuracy: 0.9290\n",
            "Epoch 97/100\n",
            "61/61 [==============================] - ETA: 0s - loss: 0.2325 - accuracy: 0.9113\n",
            "Epoch 97: val_accuracy did not improve from 0.97531\n",
            "61/61 [==============================] - 124s 2s/step - loss: 0.2325 - accuracy: 0.9113 - val_loss: 0.1078 - val_accuracy: 0.9691\n",
            "Epoch 98/100\n",
            "61/61 [==============================] - ETA: 0s - loss: 0.2328 - accuracy: 0.9118\n",
            "Epoch 98: val_accuracy did not improve from 0.97531\n",
            "61/61 [==============================] - 126s 2s/step - loss: 0.2328 - accuracy: 0.9118 - val_loss: 0.2056 - val_accuracy: 0.9136\n",
            "Epoch 99/100\n",
            "61/61 [==============================] - ETA: 0s - loss: 0.2237 - accuracy: 0.9211\n",
            "Epoch 99: val_accuracy did not improve from 0.97531\n",
            "61/61 [==============================] - 125s 2s/step - loss: 0.2237 - accuracy: 0.9211 - val_loss: 0.1651 - val_accuracy: 0.9414\n",
            "Epoch 100/100\n",
            "61/61 [==============================] - ETA: 0s - loss: 0.2269 - accuracy: 0.9231\n",
            "Epoch 100: val_accuracy did not improve from 0.97531\n",
            "61/61 [==============================] - 123s 2s/step - loss: 0.2269 - accuracy: 0.9231 - val_loss: 0.2353 - val_accuracy: 0.9136\n"
          ]
        }
      ],
      "source": [
        "history = model.fit(training_data, \n",
        "                          epochs=100, \n",
        "                          verbose=1, \n",
        "                          validation_data= valid_data,\n",
        "                          callbacks=callbacks_list) "
      ]
    },
    {
      "cell_type": "code",
      "execution_count": 27,
      "metadata": {
        "colab": {
          "base_uri": "https://localhost:8080/",
          "height": 573
        },
        "id": "i_7P0ACpE4HU",
        "outputId": "144c8a62-553d-4edd-d8a3-33c87e19c621"
      },
      "outputs": [
        {
          "output_type": "display_data",
          "data": {
            "text/plain": [
              "<Figure size 432x288 with 1 Axes>"
            ],
            "image/png": "[encoded data removed]"
          },
          "metadata": {
            "needs_background": "light"
          }
        },
        {
          "output_type": "display_data",
          "data": {
            "text/plain": [
              "<Figure size 432x288 with 1 Axes>"
            ],
            "image/png": "[encoded data removed]"
          },
          "metadata": {
            "needs_background": "light"
          }
        }
      ],
      "source": [
        "plt.plot(history.history['accuracy'])\n",
        "plt.plot(history.history['val_accuracy'])\n",
        "plt.title('model accuracy')\n",
        "plt.ylabel('accuracy')\n",
        "plt.xlabel('epoch')\n",
        "plt.legend(['train', 'test'], loc='upper left')\n",
        "plt.show()\n",
        "\n",
        "plt.plot(history.history['loss'])\n",
        "plt.plot(history.history['val_loss'])\n",
        "plt.title('model loss')\n",
        "plt.ylabel('loss')\n",
        "plt.xlabel('epoch')\n",
        "plt.legend(['train', 'test'], loc='upper left')\n",
        "plt.show()"
      ]
    },
    {
      "cell_type": "code",
      "execution_count": 34,
      "metadata": {
        "id": "9Hnq8Z-LE4HY",
        "colab": {
          "base_uri": "https://localhost:8080/"
        },
        "outputId": "a3f8b5a8-b4c2-474d-afc9-b0ac8df0c444"
      },
      "outputs": [
        {
          "output_type": "stream",
          "name": "stderr",
          "text": [
            "WARNING:absl:Found untraced functions such as _jit_compiled_convolution_op, _jit_compiled_convolution_op, _jit_compiled_convolution_op, _jit_compiled_convolution_op while saving (showing 4 of 4). These functions will not be directly callable after loading.\n"
          ]
        },
        {
          "output_type": "execute_result",
          "data": {
            "text/plain": [
              "8118176"
            ]
          },
          "metadata": {},
          "execution_count": 34
        }
      ],
      "source": [
        "from tensorflow import lite\n",
        "import tensorflow as tf\n",
        "#converter = tf.lite.TFLiteConverter.from_keras_model('test.h5')\n",
        "keras_model = tf.keras.models.load_model(\"test.h5\")\n",
        "converter = tf.lite.TFLiteConverter.from_keras_model(keras_model)\n",
        "model = converter.convert()\n",
        "file = open('model.tflite' , 'wb') \n",
        "file.write(model)"
      ]
    },
    {
      "cell_type": "code",
      "execution_count": null,
      "metadata": {
        "id": "pS2gS3gpE4Hd"
      },
      "outputs": [],
      "source": []
    },
    {
      "cell_type": "code",
      "execution_count": null,
      "metadata": {
        "id": "rpwUG3F3E4He"
      },
      "outputs": [],
      "source": []
    }
  ],
  "metadata": {
    "colab": {
      "provenance": []
    },
    "kernelspec": {
      "display_name": "Python 3",
      "language": "python",
      "name": "python3"
    },
    "language_info": {
      "codemirror_mode": {
        "name": "ipython",
        "version": 3
      },
      "file_extension": ".py",
      "mimetype": "text/x-python",
      "name": "python",
      "nbconvert_exporter": "python",
      "pygments_lexer": "ipython3",
      "version": "3.7.6"
    }
  },
  "nbformat": 4,
  "nbformat_minor": 0
}